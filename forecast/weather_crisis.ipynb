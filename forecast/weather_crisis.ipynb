{
 "cells": [
  {
   "cell_type": "code",
   "execution_count": null,
   "id": "02f0d4c4-f4c4-4613-9f06-e90c19099e6a",
   "metadata": {},
   "outputs": [],
   "source": [
    "# 🌦️ 기상청 기온/강수량 시계열 EDA 노트북\n",
    "\n",
    "# 1. 라이브러리 불러오기\n",
    "import pandas as pd\n",
    "import matplotlib.pyplot as plt\n",
    "import seaborn as sns\n",
    "\n",
    "# 2. 데이터 로딩 (사용 전 파일명을 맞춰주세요)\n",
    "df = pd.read_csv(\"weather_data.csv\")  # 예: '기온_강수_서울.csv'\n",
    "\n",
    "# 3. 날짜 컬럼 datetime으로 변환\n",
    "df['일시'] = pd.to_datetime(df['일시'])\n",
    "df = df.set_index('일시')\n",
    "\n",
    "# 4. 연도별 평균 기온 & 강수량 계산\n",
    "df['연도'] = df.index.year\n",
    "annual = df.groupby('연도').agg({\n",
    "    '기온(°C)': 'mean',\n",
    "    '강수량(mm)': 'sum'\n",
    "}).reset_index()\n",
    "\n",
    "# 5. 기온 추이 시각화\n",
    "plt.figure(figsize=(10,5))\n",
    "sns.lineplot(data=annual, x='연도', y='기온(°C)', marker='o')\n",
    "plt.title(\"연도별 평균 기온\")\n",
    "plt.ylabel(\"기온 (°C)\")\n",
    "plt.grid(True)\n",
    "plt.show()\n",
    "\n",
    "# 6. 강수량 추이 시각화\n",
    "plt.figure(figsize=(10,5))\n",
    "sns.lineplot(data=annual, x='연도', y='강수량(mm)', marker='o', color='teal')\n",
    "plt.title(\"연도별 총 강수량\")\n",
    "plt.ylabel(\"강수량 (mm)\")\n",
    "plt.grid(True)\n",
    "plt.show()\n",
    "\n",
    "# 7. 이상 기온 탐지 (평균 + 표준편차 활용)\n",
    "mean_temp = df['기온(°C)'].mean()\n",
    "std_temp = df['기온(°C)'].std()\n",
    "df['이상기온'] = (df['기온(°C)'] > mean_temp + 2 * std_temp)\n",
    "\n",
    "# 8. 이상기온 시각화\n",
    "plt.figure(figsize=(12, 4))\n",
    "df['기온(°C)'].plot(label='기온', alpha=0.6)\n",
    "df[df['이상기온']]['기온(°C)'].plot(style='.', label='이상기온', color='red')\n",
    "plt.legend()\n",
    "plt.title(\"이상 기온 탐지 결과\")\n",
    "plt.show()\n",
    "\n",
    "# 🔚 요약: 최근 연평균 기온의 상승 추세 및 이상기온 발생 시점을 시각화함."
   ]
  }
 ],
 "metadata": {
  "kernelspec": {
   "display_name": "Python 3 (ipykernel)",
   "language": "python",
   "name": "python3"
  },
  "language_info": {
   "codemirror_mode": {
    "name": "ipython",
    "version": 3
   },
   "file_extension": ".py",
   "mimetype": "text/x-python",
   "name": "python",
   "nbconvert_exporter": "python",
   "pygments_lexer": "ipython3",
   "version": "3.13.3"
  }
 },
 "nbformat": 4,
 "nbformat_minor": 5
}
